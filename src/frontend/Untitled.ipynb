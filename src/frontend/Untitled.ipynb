{
 "cells": [
  {
   "cell_type": "code",
   "execution_count": 23,
   "id": "ac6da8dc-6c43-4b7e-9a28-480166d37aa8",
   "metadata": {},
   "outputs": [],
   "source": [
    "import os \n",
    "import json \n",
    "import requests\n",
    "import firebase_admin\n",
    "\n",
    "from firebase_admin import storage\n",
    "from firebase_admin import auth\n",
    "from firebase_admin import credentials\n",
    "from requests.exceptions import HTTPError"
   ]
  },
  {
   "cell_type": "markdown",
   "id": "948fc47b-ca0b-4e22-8080-582746ce275c",
   "metadata": {},
   "source": [
    "cred = credentials.Certificate('./auth/gstk-firebase.json')\n",
    "firebase_app = firebase_admin.initialize_app(cred)"
   ]
  },
  {
   "cell_type": "code",
   "execution_count": 25,
   "id": "80fcdf83-e9b9-4d22-8bea-4150e4c018e2",
   "metadata": {},
   "outputs": [],
   "source": [
    "with open(\"./config/auth.json\", \"r\") as f:\n",
    "    data = json.load(f)\n",
    "    uid = data[\"uid\"]\n",
    "    signed_in_status = True\n",
    "    user = auth.get_user(uid)\n",
    "    username = user.display_name\n",
    "    # download_documents()\n"
   ]
  },
  {
   "cell_type": "code",
   "execution_count": 92,
   "id": "a48b7c60-92dd-499c-9648-0c2ddb4fcfc7",
   "metadata": {},
   "outputs": [],
   "source": [
    "bucket = storage.bucket(name=\"gstk-73148.appspot.com\")\n",
    "layout_file = f\"{uid}_window_layout.ini\"\n",
    "window_state_file = f\"{uid}_window_state.json\"\n",
    "app_params_file = f\"{uid}_app_params.json\"\n",
    "fileNames = [app_params_file]"
   ]
  },
  {
   "cell_type": "code",
   "execution_count": 93,
   "id": "16cf2efd-e6b5-422d-95a3-089efc34d4f4",
   "metadata": {},
   "outputs": [
    {
     "name": "stdout",
     "output_type": "stream",
     "text": [
      "File 2ftuyIkjtBfe4naHz5Ux9ZypQLs1_app_params.json downloaded from Firebase Storage.\n",
      "File 2ftuyIkjtBfe4naHz5Ux9ZypQLs1_app_params.json already exists locally.\n"
     ]
    }
   ],
   "source": [
    "for fileName in fileNames:\n",
    "    blob = bucket.blob(fileName)\n",
    "    if blob.exists():\n",
    "        print(f\"File {fileName} downloaded from Firebase Storage.\")\n",
    "        # check if local has such a file \n",
    "        # TODO: version checks \n",
    "        if os.path.exists(f\"./config/{fileName}\"):\n",
    "            print(f\"File {fileName} already exists locally.\")\n",
    "            # suffix = fileName.split(\".\")[-1]\n",
    "            # fileName = \".\".join(fileName.split(\".\")[:-1]) + f\"_{latest}.{suffix}\"\n",
    "            blob.download_to_filename(f\"./{fileName}\")\n",
    "        else:\n",
    "            print(f\"File {fileName} does not exist locally.\")\n",
    "            blob.download_to_filename(f\"./{fileName}\")\n",
    "            self.is_local_config_dirty = True "
   ]
  },
  {
   "cell_type": "code",
   "execution_count": 129,
   "id": "92f38f20-b3f3-48ca-9cb6-d5d0d88f7376",
   "metadata": {},
   "outputs": [
    {
     "data": {
      "text/plain": [
       "'ya29.c.c0AY_VpZhXHmfDEHQIweEqW8-0in5CQeAdevSGbXhwtGczzNcYGZVReq672ljkRif-aXH83qTtaacgadly4J6raZ1WcVp3iYX-jZxbuk_BTSbsod4OvPB17pjkMHy4rFYqynsLZWInyRqpShNN7IEzlzK8tlMN6lHYm9A9ez-4-hkQp6HG2WngU2OOCvfWTCtAcGBypcW7yN8qdu-oEsp8_SrBODxJIZTt58ApQmUwrhbHYNo-89MIHPBIALcnudMReytnPIwmAyIzVZamoLLExEgLHCPUOW6ACAhoD5EdZAmsCKFpoW9EszMsAbK0r07b9d-HjWXno1cfo4vP-7Qa_-Wf-vfZ8ayzBHRNMcF2QmWAXnFVYzN4Q4zLHWDoSzcwjS93L397KJ7OBM2RheeuyIprimigmtx37g91eX0xOXqSORccMZU638rO2gmu3e0QwVZyYO_Ro19dp3kX_VgXOvg-Jafp_c1tmOlYSJ2ya6cBfwRk9In00zSX_gZWffkqteOw2M8WW3rYsg6pr-6sxkXdmnhSd3w10S122hugf3XzVfVXb5vmXSdYfjsyRfeixctxqeum5fb9WufcpivwmSv4fW3UiqsiO_MIsh3kJjWWRUUOcy6wnIcRlRecJUQc51olUq9pMwaXgdUOWfJ_h3Vtv72l1p7BMsWbRi5ROabn2iS-jJyyUvxzvqnerFs_bVJq1_OpIw7BSMZh2OOJeyRpgM3mlSc1R059zSI66r2J9s_d_vt77vk7z-a_cfc3sMlx9UVZ_FifIbYpRYsMOYfRxmjJ_y-I3w0iXhiUsJ01Fcy1O065Vgu5h5hRjpuZjnXQQQ6S3pyc84wewjyBdwt_OV-vV4mZtuvi0rY2S5pZeYY6jR0ZupelxMB8svVdqgfqMVslvF1WzXifjZna1pwxkoaIa1Up18ZRX_gYMernxhWmBvQMzy8BlBMdm9Ihy0Ou7ZRs_9u18kZYgx7-FrxpX7WeORVZRl8k6Zt210WZY-pR_84Rh3O'"
      ]
     },
     "execution_count": 129,
     "metadata": {},
     "output_type": "execute_result"
    }
   ],
   "source": [
    "cred.get_access_token().access_token"
   ]
  },
  {
   "cell_type": "code",
   "execution_count": 136,
   "id": "43359067-5545-4e40-961c-f1de4cdfad5d",
   "metadata": {},
   "outputs": [],
   "source": [
    "blob = bucket.blob(fileName)"
   ]
  },
  {
   "cell_type": "code",
   "execution_count": 138,
   "id": "99198a2e-8651-46c2-a9db-f37f48983359",
   "metadata": {},
   "outputs": [],
   "source": [
    "blob.update()"
   ]
  },
  {
   "cell_type": "code",
   "execution_count": 139,
   "id": "3d241e93-a0f4-4a81-938a-23a5f9da72ed",
   "metadata": {},
   "outputs": [],
   "source": [
    "blob.make_public()"
   ]
  },
  {
   "cell_type": "code",
   "execution_count": 140,
   "id": "bb8fb730-b93d-49f5-9868-e7ff48703ebc",
   "metadata": {},
   "outputs": [
    {
     "data": {
      "text/plain": [
       "'https://storage.googleapis.com/gstk-73148.appspot.com/2ftuyIkjtBfe4naHz5Ux9ZypQLs1_app_params.json'"
      ]
     },
     "execution_count": 140,
     "metadata": {},
     "output_type": "execute_result"
    }
   ],
   "source": [
    "blob.public_url"
   ]
  },
  {
   "cell_type": "code",
   "execution_count": 189,
   "id": "861b0591-3e8a-4213-b6e5-cb4c0bbfbd16",
   "metadata": {},
   "outputs": [],
   "source": [
    "file_path = \"2.txt\"\n",
    "file = \"4.txt\"\n",
    "# check if the file exists\n",
    "if not os.path.exists(file_path):\n",
    "    print(f\"File {file} does not exist locally.\")\n",
    "blob = bucket.blob(f\"{file}\")\n",
    "blob.metadata = metadata\n",
    "blob.upload_from_filename(file_path)\n",
    "blob.make_public()"
   ]
  },
  {
   "cell_type": "code",
   "execution_count": 192,
   "id": "95cd94c2-a4a6-43bb-813d-dfc6805fd170",
   "metadata": {},
   "outputs": [
    {
     "data": {
      "text/plain": [
       "'https://storage.googleapis.com/gstk-73148.appspot.com/4.txt'"
      ]
     },
     "execution_count": 192,
     "metadata": {},
     "output_type": "execute_result"
    }
   ],
   "source": [
    "blob.public_url"
   ]
  },
  {
   "cell_type": "code",
   "execution_count": 112,
   "id": "293f0a76-9a63-42c1-b209-14ae778f0f10",
   "metadata": {},
   "outputs": [],
   "source": [
    "def download_file(url, file_name):\n",
    "    try:\n",
    "        # Send a GET request to the URL\n",
    "        response = requests.get(url, stream=True)\n",
    "\n",
    "        # Check if the request was successful\n",
    "        if response.status_code == 200:\n",
    "            # Open a local file in binary write mode\n",
    "            with open(file_name, 'wb') as file:\n",
    "                for chunk in response.iter_content(chunk_size=8192):\n",
    "                    # Write the content to the file in chunks to avoid using too much memory\n",
    "                    file.write(chunk)\n",
    "\n",
    "            print(f\"File has been successfully downloaded and saved as {file_name}.\")\n",
    "        else:\n",
    "            print(f\"Failed to download the file. HTTP status code: {response.status_code}\")\n",
    "\n",
    "    except Exception as e:\n",
    "        print(f\"An error occurred: {e}\")"
   ]
  },
  {
   "cell_type": "code",
   "execution_count": 113,
   "id": "95b123b8-7233-4a4c-85f0-f66286cb22c5",
   "metadata": {},
   "outputs": [
    {
     "name": "stdout",
     "output_type": "stream",
     "text": [
      "JSON data has been successfully downloaded and saved as 1.json.\n"
     ]
    }
   ],
   "source": [
    "download_json(blob.public_url, \"1.json\")"
   ]
  },
  {
   "cell_type": "code",
   "execution_count": 141,
   "id": "eabb9bcc-83ec-47e5-8e4a-82685c5ee823",
   "metadata": {},
   "outputs": [],
   "source": [
    "from uuid import uuid4"
   ]
  },
  {
   "cell_type": "code",
   "execution_count": 199,
   "id": "9c4471aa-241b-46f8-844c-223d5cf05188",
   "metadata": {},
   "outputs": [
    {
     "data": {
      "text/plain": [
       "2"
      ]
     },
     "execution_count": 199,
     "metadata": {},
     "output_type": "execute_result"
    }
   ],
   "source": [
    "max(1,2)"
   ]
  },
  {
   "cell_type": "code",
   "execution_count": null,
   "id": "2dd74217-c6db-457c-a78d-41b666177a34",
   "metadata": {},
   "outputs": [],
   "source": []
  }
 ],
 "metadata": {
  "kernelspec": {
   "display_name": "GSTK",
   "language": "python",
   "name": "gstk"
  },
  "language_info": {
   "codemirror_mode": {
    "name": "ipython",
    "version": 3
   },
   "file_extension": ".py",
   "mimetype": "text/x-python",
   "name": "python",
   "nbconvert_exporter": "python",
   "pygments_lexer": "ipython3",
   "version": "3.11.4"
  }
 },
 "nbformat": 4,
 "nbformat_minor": 5
}
